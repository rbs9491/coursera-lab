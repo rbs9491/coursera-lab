{
 "cells": [
  {
   "cell_type": "markdown",
   "id": "3c178b0c",
   "metadata": {},
   "source": [
    "# Data Science Tools and Ecosystem"
   ]
  },
  {
   "cell_type": "markdown",
   "id": "3e33c56f",
   "metadata": {},
   "source": [
    "In this notebook, Data Science Tools and Ecosystem are summarized. "
   ]
  },
  {
   "cell_type": "markdown",
   "id": "54895572",
   "metadata": {},
   "source": [
    "__Objectives:__\n",
    "* Identify the criteria and roles for determining the language to learn.\n",
    "* Identify the users and benefits of Python and R languange.\n",
    "* Define SQL elements and list their benefits.\n",
    "* Python Libraries makes it easier to calculate math problems and perform data analysis. "
   ]
  },
  {
   "cell_type": "markdown",
   "id": "ea4d930a",
   "metadata": {},
   "source": [
    "Some of the popular languages that Data Scientists user are:\n",
    "1. Python\n",
    "2. R Languange\n",
    "3. SQL\n",
    "4. Scala\n",
    "5. Java\n",
    "6. C++\n",
    "7. Julia"
   ]
  },
  {
   "cell_type": "markdown",
   "id": "ce010f06",
   "metadata": {},
   "source": [
    "Some of the commonly used libraries used by Data Scientists include:\n",
    "Python Libraries: \n",
    "1. Scientific Computing Libraries in Python \n",
    "2. Visualization Libraries in Python \n",
    "3. High-Level-Machine Learning and Deep Learning \n",
    "4. Deep Learning Libraries in Python \n",
    "5. Libraries used in other languages: \n",
    "* Apache Spark\n",
    "* Scala libraries \n",
    "* R libraries "
   ]
  },
  {
   "cell_type": "markdown",
   "id": "a625646f",
   "metadata": {},
   "source": [
    "| Data Science Tools |\n",
    "| ------------------ |\n",
    "| Jupyter Notebook |\n",
    "| Jupyter Lab |\n",
    "| R Studio |"
   ]
  },
  {
   "cell_type": "markdown",
   "id": "e0016049",
   "metadata": {},
   "source": [
    "### Below are a few examples of evaluating arithmetic expressions in Python"
   ]
  },
  {
   "cell_type": "code",
   "execution_count": 1,
   "id": "64339cee",
   "metadata": {},
   "outputs": [
    {
     "data": {
      "text/plain": [
       "17"
      ]
     },
     "execution_count": 1,
     "metadata": {},
     "output_type": "execute_result"
    }
   ],
   "source": [
    "# This is a simple arithmetic expression to multiply then add integers\n",
    "(3*4)+5"
   ]
  },
  {
   "cell_type": "code",
   "execution_count": 2,
   "id": "04a80907",
   "metadata": {},
   "outputs": [
    {
     "data": {
      "text/plain": [
       "3.3333333333333335"
      ]
     },
     "execution_count": 2,
     "metadata": {},
     "output_type": "execute_result"
    }
   ],
   "source": [
    "# This will convert 200 minutes to hours by dividing by 60\n",
    "200 / 60"
   ]
  },
  {
   "cell_type": "markdown",
   "id": "7ba91ce9",
   "metadata": {},
   "source": [
    "## Author\n",
    "Rhodora Cleofe"
   ]
  },
  {
   "cell_type": "code",
   "execution_count": null,
   "id": "9e56fa3f",
   "metadata": {},
   "outputs": [],
   "source": []
  }
 ],
 "metadata": {
  "kernelspec": {
   "display_name": "Python 3 (ipykernel)",
   "language": "python",
   "name": "python3"
  },
  "language_info": {
   "codemirror_mode": {
    "name": "ipython",
    "version": 3
   },
   "file_extension": ".py",
   "mimetype": "text/x-python",
   "name": "python",
   "nbconvert_exporter": "python",
   "pygments_lexer": "ipython3",
   "version": "3.10.9"
  }
 },
 "nbformat": 4,
 "nbformat_minor": 5
}
